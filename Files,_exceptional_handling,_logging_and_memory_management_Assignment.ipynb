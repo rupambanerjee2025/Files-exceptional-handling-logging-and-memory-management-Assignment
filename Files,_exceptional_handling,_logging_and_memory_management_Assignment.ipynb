{
  "nbformat": 4,
  "nbformat_minor": 0,
  "metadata": {
    "colab": {
      "provenance": []
    },
    "kernelspec": {
      "name": "python3",
      "display_name": "Python 3"
    },
    "language_info": {
      "name": "python"
    }
  },
  "cells": [
    {
      "cell_type": "markdown",
      "source": [
        "**Files, exceptional handling,\n",
        "logging and memory\n",
        "management**\n",
        "\n",
        "**Theoritical Questions and Answers-**\n",
        "\n",
        "### **1. What is the difference between interpreted and compiled languages?**\n",
        "- **Interpreted languages**: Code is executed line by line by an interpreter (e.g., Python, JavaScript). There is no intermediate machine code; execution happens directly from the source code.\n",
        "- **Compiled languages**: Code is first converted into machine code or bytecode by a compiler before execution (e.g., C, C++). The machine code is then run on the machine.\n",
        "\n",
        "---\n",
        "\n",
        "### **2. What is exception handling in Python?**\n",
        "**Exception handling** in Python refers to the process of responding to exceptions (runtime errors) using `try`, `except`, `else`, and `finally` blocks to manage errors gracefully without crashing the program.\n",
        "\n",
        "---\n",
        "\n",
        "### **3. What is the purpose of the `finally` block in exception handling?**\n",
        "The `finally` block is executed **no matter what** — whether an exception occurs or not. It’s typically used for cleanup actions like closing files or releasing resources.\n",
        "\n",
        "```python\n",
        "try:\n",
        "    # Code that may raise an exception\n",
        "finally:\n",
        "    # Code that runs regardless of an exception\n",
        "```\n",
        "\n",
        "---\n",
        "\n",
        "### **4. What is logging in Python?**\n",
        "**Logging** in Python refers to capturing and recording runtime events or messages, especially for debugging and monitoring. The `logging` module allows for tracking events and saving them to files or other output streams.\n",
        "\n",
        "---\n",
        "\n",
        "### **5. What is the significance of the `__del__` method in Python?**\n",
        "The `__del__` method is a **destructor**. It is automatically called when an object is about to be destroyed, allowing you to clean up resources like closing files or network connections. However, it should be used cautiously, as Python’s garbage collector handles memory cleanup.\n",
        "\n",
        "---\n",
        "\n",
        "### **6. What is the difference between `import` and `from ... import` in Python?**\n",
        "- `import module`: Imports the entire module, and you access its functions or classes using `module.function`.\n",
        "- `from module import item`: Imports only a specific item (like a function or class) from a module, allowing direct access without the module prefix.\n",
        "\n",
        "```python\n",
        "import math\n",
        "print(math.sqrt(16))\n",
        "\n",
        "from math import sqrt\n",
        "print(sqrt(16))\n",
        "```\n",
        "\n",
        "---\n",
        "\n",
        "### **7. How can you handle multiple exceptions in Python?**\n",
        "You can handle multiple exceptions by using multiple `except` blocks or by using a tuple to catch multiple exceptions in one block.\n",
        "\n",
        "```python\n",
        "try:\n",
        "    # Some code\n",
        "except (TypeError, ValueError) as e:\n",
        "    print(f\"An error occurred: {e}\")\n",
        "```\n",
        "\n",
        "---\n",
        "\n",
        "### **8. What is the purpose of the `with` statement when handling files in Python?**\n",
        "The `with` statement is used to **automatically handle resource management** (e.g., file handling). It ensures that files are properly closed after operations, even if an exception occurs.\n",
        "\n",
        "```python\n",
        "with open(\"file.txt\", \"r\") as file:\n",
        "    content = file.read()\n",
        "```\n",
        "\n",
        "---\n",
        "\n",
        "### **9. What is the difference between multithreading and multiprocessing?**\n",
        "- **Multithreading**: Multiple threads run within the same process, sharing memory space. It’s ideal for I/O-bound tasks.\n",
        "- **Multiprocessing**: Each process runs independently with its own memory space. It’s ideal for CPU-bound tasks.\n",
        "\n",
        "---\n",
        "\n",
        "### **10. What are the advantages of using logging in a program?**\n",
        "- Provides **persistent logs** for debugging and monitoring.\n",
        "- Enables **tracking program flow** and capturing runtime issues.\n",
        "- Allows control over **log level** and logging output location (file, console, etc.).\n",
        "- Helps with **error tracking** and understanding issues in production environments.\n",
        "\n",
        "---\n",
        "\n",
        "### **11. What is memory management in Python?**\n",
        "Memory management in Python involves the **allocation and deallocation of memory**. Python uses **automatic memory management** with **garbage collection** to reclaim unused memory.\n",
        "\n",
        "---\n",
        "\n",
        "### **12. What are the basic steps involved in exception handling in Python?**\n",
        "1. **Try block**: Code that may raise an exception.\n",
        "2. **Except block**: Handles the exception if it occurs.\n",
        "3. **Else block** (optional): Runs if no exception occurs.\n",
        "4. **Finally block** (optional): Always runs, regardless of exceptions.\n",
        "\n",
        "---\n",
        "\n",
        "### **13. Why is memory management important in Python?**\n",
        "Effective memory management ensures that **unused memory is freed**, preventing memory leaks and improving program efficiency. Python’s garbage collector plays a key role in reclaiming memory.\n",
        "\n",
        "---\n",
        "\n",
        "### **14. What is the role of `try` and `except` in exception handling?**\n",
        "- **`try` block**: Contains code that may raise an exception.\n",
        "- **`except` block**: Catches and handles the exception when it occurs, preventing the program from crashing.\n",
        "\n",
        "```python\n",
        "try:\n",
        "    # Risky code\n",
        "except SomeException:\n",
        "    # Handle exception\n",
        "```\n",
        "\n",
        "---\n",
        "\n",
        "### **15. How does Python's garbage collection system work?**\n",
        "Python’s garbage collection system tracks objects in memory and automatically deletes them when they are no longer referenced. It uses **reference counting** and **cyclic garbage collection** (to detect and clean up circular references).\n",
        "\n",
        "---\n",
        "\n",
        "### **16. What is the purpose of the `else` block in exception handling?**\n",
        "The `else` block runs only if the **try** block does not raise an exception. It allows you to write code that should only run when no errors occur.\n",
        "\n",
        "```python\n",
        "try:\n",
        "    # Code that may raise an exception\n",
        "except SomeException:\n",
        "    # Handle exception\n",
        "else:\n",
        "    # Code runs if no exception was raised\n",
        "```\n",
        "\n",
        "---\n",
        "\n",
        "### **17. What are the common logging levels in Python?**\n",
        "The `logging` module provides several logging levels, with increasing severity:\n",
        "- `DEBUG`\n",
        "- `INFO`\n",
        "- `WARNING`\n",
        "- `ERROR`\n",
        "- `CRITICAL`\n",
        "\n",
        "```python\n",
        "import logging\n",
        "logging.basicConfig(level=logging.DEBUG)\n",
        "logging.debug(\"This is a debug message.\")\n",
        "```\n",
        "\n",
        "---\n",
        "\n",
        "### **18. What is the difference between `os.fork()` and `multiprocessing` in Python?**\n",
        "- **`os.fork()`**: Creates a new process by duplicating the calling process. This is platform-dependent (works on UNIX-like systems).\n",
        "- **`multiprocessing`**: A cross-platform approach for creating parallel processes, which avoids issues like shared memory in `os.fork()`.\n",
        "\n",
        "---\n",
        "\n",
        "### **19. What is the importance of closing a file in Python?**\n",
        "Closing a file ensures that all data is properly written to disk and that system resources are released. Not closing a file can lead to **file corruption** or **resource leakage**.\n",
        "\n",
        "---\n",
        "\n",
        "### **20. What is the difference between `file.read()` and `file.readline()` in Python?**\n",
        "- **`file.read()`**: Reads the entire content of the file at once.\n",
        "- **`file.readline()`**: Reads the next line of the file each time it’s called.\n",
        "\n",
        "---\n",
        "\n",
        "### **21. What is the `logging` module in Python used for?**\n",
        "The `logging` module is used to log messages, track events, and debug information, allowing for **persistent and configurable logging** in programs.\n",
        "\n",
        "---\n",
        "\n",
        "### **22. What is the `os` module in Python used for in file handling?**\n",
        "The `os` module provides functions for interacting with the operating system, including file and directory management (e.g., `os.path`, `os.rename`, `os.remove`).\n",
        "\n",
        "---\n",
        "\n",
        "### **23. What are the challenges associated with memory management in Python?**\n",
        "Challenges include:\n",
        "- **Circular references**: Objects referencing each other may not be automatically deleted.\n",
        "- **Memory leaks**: Objects that are no longer needed but still referenced can accumulate over time.\n",
        "- **Efficiency**: Garbage collection can be expensive in terms of performance.\n",
        "\n",
        "---\n",
        "\n",
        "### **24. How do you raise an exception manually in Python?**\n",
        "You can raise an exception using the `raise` keyword, followed by an exception type.\n",
        "\n",
        "```python\n",
        "raise ValueError(\"An error occurred\")\n",
        "```\n",
        "\n",
        "---\n",
        "\n",
        "### **25. Why is it important to use multithreading in certain applications?**\n",
        "Multithreading is useful for **I/O-bound operations** (e.g., reading files, network requests) where the program spends more time waiting for external resources than executing CPU-intensive tasks. It allows the program to handle multiple tasks concurrently.\n",
        "\n",
        "---\n"
      ],
      "metadata": {
        "id": "w8faKUH0pXyI"
      }
    },
    {
      "cell_type": "markdown",
      "source": [
        "**Practical Questions and Answers-**\n"
      ],
      "metadata": {
        "id": "7gz-GHIbqEi7"
      }
    },
    {
      "cell_type": "markdown",
      "source": [
        "**1. How can you open a file for writing in Python and write a string to it?**"
      ],
      "metadata": {
        "id": "h5Q0IOHZsjvC"
      }
    },
    {
      "cell_type": "code",
      "source": [
        "with open(\"output.txt\", \"w\") as file:\n",
        "    file.write(\"Hello, world!\")\n"
      ],
      "metadata": {
        "id": "mIn0DS29suK5"
      },
      "execution_count": 3,
      "outputs": []
    },
    {
      "cell_type": "markdown",
      "source": [
        "**2. Write a Python program to read the contents of a file and print each line.**"
      ],
      "metadata": {
        "id": "n4RPANISs7l8"
      }
    },
    {
      "cell_type": "code",
      "source": [
        "def print_file_contents(file_path):\n",
        "    \"\"\"Reads and prints each line of a file.\n",
        "\n",
        "    Args:\n",
        "        file_path: The path to the file.\n",
        "    \"\"\"\n",
        "    try:\n",
        "        with open(file_path, 'r') as file:\n",
        "            for line in file:\n",
        "                print(line, end='')  # end='' prevents extra newline\n",
        "    except FileNotFoundError:\n",
        "        print(f\"Error: File not found at '{file_path}'\")\n",
        "\n",
        "# Example usage (replace with your file path):\n",
        "file_path = '/content/my_file.txt'\n",
        "print_file_contents(file_path)"
      ],
      "metadata": {
        "colab": {
          "base_uri": "https://localhost:8080/"
        },
        "id": "WDcJ3SPhtzmg",
        "outputId": "908c7c5c-8a46-45f7-adad-333bc2345870"
      },
      "execution_count": 5,
      "outputs": [
        {
          "output_type": "stream",
          "name": "stdout",
          "text": [
            "Error: File not found at '/content/my_file.txt'\n"
          ]
        }
      ]
    },
    {
      "cell_type": "markdown",
      "source": [
        "**3. How would you handle a case where the file doesn't exist while trying to open it for reading?**"
      ],
      "metadata": {
        "id": "K7y69rtYt5D8"
      }
    },
    {
      "cell_type": "code",
      "source": [
        "try:\n",
        "    with open(\"file.txt\", \"r\") as file:\n",
        "        content = file.read()\n",
        "except FileNotFoundError:\n",
        "    print(\"The file does not exist.\")\n"
      ],
      "metadata": {
        "colab": {
          "base_uri": "https://localhost:8080/"
        },
        "id": "b4KeCiazuCC4",
        "outputId": "70262a81-618a-4eb1-b2de-7773adc93a16"
      },
      "execution_count": 6,
      "outputs": [
        {
          "output_type": "stream",
          "name": "stdout",
          "text": [
            "The file does not exist.\n"
          ]
        }
      ]
    },
    {
      "cell_type": "markdown",
      "source": [
        "**4. Write a Python script that reads from one file and writes its content to another file.**"
      ],
      "metadata": {
        "id": "OqkT0GTXuNpy"
      }
    },
    {
      "cell_type": "code",
      "source": [
        "def copy_file_contents(source_file, destination_file):\n",
        "    \"\"\"Reads from one file and writes its content to another file.\n",
        "\n",
        "    Args:\n",
        "        source_file: Path to the source file.\n",
        "        destination_file: Path to the destination file.\n",
        "    \"\"\"\n",
        "    try:\n",
        "        with open(source_file, 'r') as infile, open(destination_file, 'w') as outfile:\n",
        "            for line in infile:\n",
        "                outfile.write(line)\n",
        "    except FileNotFoundError:\n",
        "        print(f\"Error: Source file not found at '{source_file}'\")\n",
        "    except Exception as e:\n",
        "        print(f\"An error occurred: {e}\")\n",
        "\n",
        "# Example usage\n",
        "source_file_path = '/content/input.txt'  # Replace with your input file path\n",
        "destination_file_path = '/content/output.txt'  # Replace with your desired output file path\n",
        "\n",
        "# Create a dummy input file for demonstration\n",
        "with open(source_file_path, 'w') as f:\n",
        "  f.write(\"\"\"# Difference Between a Function and a Method A function is a block of reusable code, independent of objects, while a method is tied to an object and operates on its data. Example:\n",
        "#\n",
        "# python\n",
        "# # Function\n",
        "# def greet(name):\n",
        "#     return f\"Hello, {name}\"\n",
        "# print(greet(\"Rupam\"))\n",
        "#\n",
        "# # Method\n",
        "# class Person:\n",
        "#     def greet(self, name):\n",
        "#         return f\"Hello, {name}\"\n",
        "# p = Person()\n",
        "# print(p.greet(\"Rupam\"))\"\"\")\n",
        "\n",
        "\n",
        "copy_file_contents(source_file_path, destination_file_path)\n",
        "\n",
        "print(f\"File contents copied from '{source_file_path}' to '{destination_file_path}'\")"
      ],
      "metadata": {
        "colab": {
          "base_uri": "https://localhost:8080/"
        },
        "id": "OBwLCDaBv4jK",
        "outputId": "d022e5c1-44db-41c2-9500-2ebee3e6dbee"
      },
      "execution_count": 8,
      "outputs": [
        {
          "output_type": "stream",
          "name": "stdout",
          "text": [
            "File contents copied from '/content/input.txt' to '/content/output.txt'\n"
          ]
        }
      ]
    },
    {
      "cell_type": "markdown",
      "source": [
        "**5. How would you catch and handle division by zero error in Python?**"
      ],
      "metadata": {
        "id": "W0BW7UkjxxUz"
      }
    },
    {
      "cell_type": "code",
      "source": [
        "try:\n",
        "    result = 10 / 0\n",
        "except ZeroDivisionError:\n",
        "    print(\"Error: Division by zero.\")\n"
      ],
      "metadata": {
        "colab": {
          "base_uri": "https://localhost:8080/"
        },
        "id": "VZ4lBe9Qx4up",
        "outputId": "bbb98a6f-00f9-4d3d-ec34-162da955e959"
      },
      "execution_count": 9,
      "outputs": [
        {
          "output_type": "stream",
          "name": "stdout",
          "text": [
            "Error: Division by zero.\n"
          ]
        }
      ]
    },
    {
      "cell_type": "markdown",
      "source": [
        "**6. Write a Python program that logs an error message to a log file when a division by zero exception occurs.**"
      ],
      "metadata": {
        "id": "jglzJJZ4x8Ru"
      }
    },
    {
      "cell_type": "code",
      "source": [
        "import logging\n",
        "\n",
        "logging.basicConfig(filename='error.log', level=logging.ERROR)\n",
        "\n",
        "try:\n",
        "    result = 10 / 0\n",
        "except ZeroDivisionError:\n",
        "    logging.error(\"Attempted division by zero.\")\n"
      ],
      "metadata": {
        "colab": {
          "base_uri": "https://localhost:8080/"
        },
        "id": "bTyGAeN0yALK",
        "outputId": "1cb14f91-1ac4-4fb7-bb74-c385b26fa347"
      },
      "execution_count": 10,
      "outputs": [
        {
          "output_type": "stream",
          "name": "stderr",
          "text": [
            "ERROR:root:Attempted division by zero.\n"
          ]
        }
      ]
    },
    {
      "cell_type": "markdown",
      "source": [
        "**7. How do you log information at different levels (INFO, ERROR, WARNING) in Python using the logging module?**"
      ],
      "metadata": {
        "id": "guz544lsyDz-"
      }
    },
    {
      "cell_type": "code",
      "source": [
        "import logging\n",
        "\n",
        "logging.basicConfig(level=logging.DEBUG)\n",
        "\n",
        "logging.debug(\"This is a debug message\")\n",
        "logging.info(\"This is an info message\")\n",
        "logging.warning(\"This is a warning message\")\n",
        "logging.error(\"This is an error message\")\n",
        "logging.critical(\"This is a critical message\")\n"
      ],
      "metadata": {
        "colab": {
          "base_uri": "https://localhost:8080/"
        },
        "id": "P9NNTsXfyHZV",
        "outputId": "6c0995ac-3e14-4c3e-830b-f1b140164e24"
      },
      "execution_count": 11,
      "outputs": [
        {
          "output_type": "stream",
          "name": "stderr",
          "text": [
            "WARNING:root:This is a warning message\n",
            "ERROR:root:This is an error message\n",
            "CRITICAL:root:This is a critical message\n"
          ]
        }
      ]
    },
    {
      "cell_type": "markdown",
      "source": [
        "**8. Write a program to handle a file opening error using exception handling.**"
      ],
      "metadata": {
        "id": "Pv5KC2CNyMLy"
      }
    },
    {
      "cell_type": "code",
      "source": [
        "try:\n",
        "    with open(\"non_existent_file.txt\", \"r\") as file:\n",
        "        content = file.read()\n",
        "except IOError:\n",
        "    print(\"Error: The file could not be opened.\")\n"
      ],
      "metadata": {
        "colab": {
          "base_uri": "https://localhost:8080/"
        },
        "id": "3B0tbcNbySC2",
        "outputId": "388ca3f0-77ab-4d91-d72d-5aba0829673c"
      },
      "execution_count": 12,
      "outputs": [
        {
          "output_type": "stream",
          "name": "stdout",
          "text": [
            "Error: The file could not be opened.\n"
          ]
        }
      ]
    },
    {
      "cell_type": "markdown",
      "source": [
        "**9. How can you read a file line by line and store its content in a list in Python?**"
      ],
      "metadata": {
        "id": "dlhBNrfhycgS"
      }
    },
    {
      "cell_type": "code",
      "source": [
        "def read_file_into_list(file_path):\n",
        "    \"\"\"Reads a file line by line and stores its content in a list.\n",
        "\n",
        "    Args:\n",
        "        file_path: The path to the file.\n",
        "\n",
        "    Returns:\n",
        "        A list of strings, where each string is a line from the file,\n",
        "        or None if the file is not found.\n",
        "    \"\"\"\n",
        "    try:\n",
        "        with open(file_path, 'r') as file:\n",
        "            lines = file.readlines()\n",
        "            return lines\n",
        "    except FileNotFoundError:\n",
        "        print(f\"Error: File not found at '{file_path}'\")\n",
        "        return None\n",
        "\n",
        "# Example usage\n",
        "file_path = '/content/my_file.txt'  # Replace with your file path\n",
        "lines = read_file_into_list(file_path)\n",
        "\n",
        "if lines:\n",
        "    print(\"File contents:\")\n",
        "    for line in lines:\n",
        "      print(line, end='') # end='' to prevent extra newline\n",
        "    # further processing of the 'lines' list\n",
        "    #print(lines)\n"
      ],
      "metadata": {
        "colab": {
          "base_uri": "https://localhost:8080/"
        },
        "id": "crdRgtljzIMF",
        "outputId": "be5e159a-8155-48f4-f221-e569553813b4"
      },
      "execution_count": 14,
      "outputs": [
        {
          "output_type": "stream",
          "name": "stdout",
          "text": [
            "Error: File not found at '/content/my_file.txt'\n"
          ]
        }
      ]
    },
    {
      "cell_type": "markdown",
      "source": [
        "**10. How can you append data to an existing file in Python?**"
      ],
      "metadata": {
        "id": "zc0t34lEzM5Z"
      }
    },
    {
      "cell_type": "code",
      "source": [
        "with open(\"file.txt\", \"a\") as file:\n",
        "    file.write(\"Appending new data!\\n\")\n"
      ],
      "metadata": {
        "id": "4eNlulr6zUGQ"
      },
      "execution_count": 16,
      "outputs": []
    },
    {
      "cell_type": "markdown",
      "source": [
        "**11. Write a Python program that uses a try-except block to handle an error when attempting to access a dictionary key that doesn't exist.**"
      ],
      "metadata": {
        "id": "SQVl4FjOzYB0"
      }
    },
    {
      "cell_type": "code",
      "source": [
        "my_dict = {\"key1\": \"value1\", \"key2\": \"value2\"}\n",
        "\n",
        "try:\n",
        "    value = my_dict[\"non_existent_key\"]\n",
        "except KeyError:\n",
        "    print(\"The key does not exist in the dictionary.\")\n"
      ],
      "metadata": {
        "colab": {
          "base_uri": "https://localhost:8080/"
        },
        "id": "Gb0B9IONzbtw",
        "outputId": "f382deac-58ed-423a-8c0d-121033c279e4"
      },
      "execution_count": 17,
      "outputs": [
        {
          "output_type": "stream",
          "name": "stdout",
          "text": [
            "The key does not exist in the dictionary.\n"
          ]
        }
      ]
    },
    {
      "cell_type": "markdown",
      "source": [
        "**12. Write a program that demonstrates using multiple except blocks to handle different types of exceptions.**"
      ],
      "metadata": {
        "id": "dANkhCWUzfUN"
      }
    },
    {
      "cell_type": "code",
      "source": [
        "try:\n",
        "    result = 10 / 0  # This will cause ZeroDivisionError\n",
        "    value = my_dict[\"non_existent_key\"]  # This will cause KeyError\n",
        "except ZeroDivisionError:\n",
        "    print(\"Cannot divide by zero.\")\n",
        "except KeyError:\n",
        "    print(\"Key not found in the dictionary.\")\n",
        "except Exception as e:\n",
        "    print(f\"An unexpected error occurred: {e}\")\n"
      ],
      "metadata": {
        "colab": {
          "base_uri": "https://localhost:8080/"
        },
        "id": "qIOLNMgUzj0I",
        "outputId": "d58d154c-7420-4444-dfb2-505c244643db"
      },
      "execution_count": 18,
      "outputs": [
        {
          "output_type": "stream",
          "name": "stdout",
          "text": [
            "Cannot divide by zero.\n"
          ]
        }
      ]
    },
    {
      "cell_type": "markdown",
      "source": [
        "**13. How would you check if a file exists before attempting to read it in Python?**"
      ],
      "metadata": {
        "id": "0s_XR0hTzoq0"
      }
    },
    {
      "cell_type": "code",
      "source": [
        "import os\n",
        "\n",
        "if os.path.exists(\"file.txt\"):\n",
        "    with open(\"file.txt\", \"r\") as file:\n",
        "        content = file.read()\n",
        "else:\n",
        "    print(\"The file does not exist.\")\n"
      ],
      "metadata": {
        "id": "c_0qHPTFzn1o"
      },
      "execution_count": 21,
      "outputs": []
    },
    {
      "cell_type": "markdown",
      "source": [
        "**14. Write a program that uses the logging module to log both informational and error messages.**"
      ],
      "metadata": {
        "id": "hKs7P2-dz1jM"
      }
    },
    {
      "cell_type": "code",
      "source": [
        "import logging\n",
        "\n",
        "logging.basicConfig(filename='app.log', level=logging.DEBUG)\n",
        "\n",
        "logging.info(\"This is an informational message.\")\n",
        "try:\n",
        "    10 / 0\n",
        "except ZeroDivisionError:\n",
        "    logging.error(\"Division by zero error.\")\n"
      ],
      "metadata": {
        "colab": {
          "base_uri": "https://localhost:8080/"
        },
        "id": "iE2a47ZAz6FA",
        "outputId": "fe60cd6e-fb29-47e8-e1ae-5f8133fae35a"
      },
      "execution_count": 22,
      "outputs": [
        {
          "output_type": "stream",
          "name": "stderr",
          "text": [
            "ERROR:root:Division by zero error.\n"
          ]
        }
      ]
    },
    {
      "cell_type": "markdown",
      "source": [
        "**15. Write a Python program that prints the content of a file and handles the case when the file is empty.**"
      ],
      "metadata": {
        "id": "aRi8573zz-Tg"
      }
    },
    {
      "cell_type": "code",
      "source": [
        "try:\n",
        "    with open(\"file.txt\", \"r\") as file:\n",
        "        content = file.read()\n",
        "        if not content:\n",
        "            print(\"The file is empty.\")\n",
        "        else:\n",
        "            print(content)\n",
        "except FileNotFoundError:\n",
        "    print(\"File not found.\")\n"
      ],
      "metadata": {
        "id": "NCBCozJj0Bla"
      },
      "execution_count": null,
      "outputs": []
    },
    {
      "cell_type": "markdown",
      "source": [
        "**16. Demonstrate how to use memory profiling to check the memory usage of a small program.**"
      ],
      "metadata": {
        "id": "363x2cUG0Gyh"
      }
    },
    {
      "cell_type": "code",
      "source": [
        "import tracemalloc\n",
        "import os\n",
        "\n",
        "def my_memory_intensive_function():\n",
        "  # Simulate memory usage\n",
        "  large_list = [i for i in range(1000000)]\n",
        "  return large_list\n",
        "\n",
        "# Start tracing memory allocations\n",
        "tracemalloc.start()\n",
        "\n",
        "# Run the memory-intensive function\n",
        "my_memory_intensive_function()\n",
        "\n",
        "# Get current memory usage snapshot\n",
        "current, peak = tracemalloc.get_traced_memory()\n",
        "\n",
        "print(f\"Current memory usage is {current / 10**6}MB; Peak was {peak / 10**6}MB\")\n",
        "\n",
        "# Stop tracing\n",
        "tracemalloc.stop()"
      ],
      "metadata": {
        "colab": {
          "base_uri": "https://localhost:8080/"
        },
        "id": "C8DbCYWB0b6L",
        "outputId": "beda35b9-de66-4737-d74e-f9c4d538db2d"
      },
      "execution_count": 25,
      "outputs": [
        {
          "output_type": "stream",
          "name": "stdout",
          "text": [
            "Current memory usage is 0.007081MB; Peak was 40.448213MB\n"
          ]
        }
      ]
    },
    {
      "cell_type": "markdown",
      "source": [
        "**17. Write a Python program to create and write a list of numbers to a file, one number per line.**"
      ],
      "metadata": {
        "id": "sxx2LSvf0hyH"
      }
    },
    {
      "cell_type": "code",
      "source": [
        "numbers = [1, 2, 3, 4, 5]\n",
        "\n",
        "with open(\"numbers.txt\", \"w\") as file:\n",
        "    for num in numbers:\n",
        "        file.write(f\"{num}\\n\")\n"
      ],
      "metadata": {
        "id": "dcyCqKEc0oZh"
      },
      "execution_count": 27,
      "outputs": []
    },
    {
      "cell_type": "markdown",
      "source": [
        "**18. How would you implement a basic logging setup that logs to a file with rotation after 1MB?**"
      ],
      "metadata": {
        "id": "Rmjslq2_0tfG"
      }
    },
    {
      "cell_type": "code",
      "source": [
        "import logging\n",
        "from logging.handlers import RotatingFileHandler\n",
        "\n",
        "handler = RotatingFileHandler(\"app.log\", maxBytes=1e6, backupCount=3)  # 1MB size\n",
        "logging.basicConfig(level=logging.DEBUG, handlers=[handler])\n",
        "\n",
        "logging.info(\"This is an info message\")\n"
      ],
      "metadata": {
        "id": "3afawzSw0xX_"
      },
      "execution_count": 29,
      "outputs": []
    },
    {
      "cell_type": "markdown",
      "source": [
        "**19. Write a program that handles both IndexError and KeyError using a try-except block.**"
      ],
      "metadata": {
        "id": "iXahEGLc03ht"
      }
    },
    {
      "cell_type": "code",
      "source": [
        "my_list = [1, 2, 3]\n",
        "my_dict = {\"key1\": \"value1\"}\n",
        "\n",
        "try:\n",
        "    print(my_list[5])  # IndexError\n",
        "except IndexError:\n",
        "    print(\"Index out of range.\")\n",
        "\n",
        "try:\n",
        "    print(my_dict[\"non_existent_key\"])  # KeyError\n",
        "except KeyError:\n",
        "    print(\"Key not found.\")\n"
      ],
      "metadata": {
        "colab": {
          "base_uri": "https://localhost:8080/"
        },
        "id": "WqxKFZDx07Xt",
        "outputId": "63af35df-2c4a-43dc-931e-4a96aa1d75d5"
      },
      "execution_count": 30,
      "outputs": [
        {
          "output_type": "stream",
          "name": "stdout",
          "text": [
            "Index out of range.\n",
            "Key not found.\n"
          ]
        }
      ]
    },
    {
      "cell_type": "markdown",
      "source": [
        "**20. How would you open a file and read its contents using a context manager in Python?**"
      ],
      "metadata": {
        "id": "BNzVc4q-1JvP"
      }
    },
    {
      "cell_type": "code",
      "source": [
        "with open(\"file.txt\", \"r\") as file:\n",
        "    content = file.read()\n",
        "    print(content)\n"
      ],
      "metadata": {
        "id": "k_7qIm221PbA"
      },
      "execution_count": null,
      "outputs": []
    },
    {
      "cell_type": "markdown",
      "source": [
        "**21. Write a Python program that reads a file and prints the number of occurrences of a specific word.**"
      ],
      "metadata": {
        "id": "4oFeAbsZ1nqq"
      }
    },
    {
      "cell_type": "code",
      "source": [
        "word_to_count = \"Python\"\n",
        "count = 0\n",
        "\n",
        "with open(\"file.txt\", \"r\") as file:\n",
        "    for line in file:\n",
        "        count += line.lower().count(word_to_count.lower())\n",
        "\n",
        "print(f\"The word '{word_to_count}' appears {count} times.\")\n"
      ],
      "metadata": {
        "colab": {
          "base_uri": "https://localhost:8080/"
        },
        "id": "dcVRKFZ21sbX",
        "outputId": "bafcb116-8a10-407e-9925-b75499e86254"
      },
      "execution_count": 32,
      "outputs": [
        {
          "output_type": "stream",
          "name": "stdout",
          "text": [
            "The word 'Python' appears 0 times.\n"
          ]
        }
      ]
    },
    {
      "cell_type": "markdown",
      "source": [
        "**22. How can you check if a file is empty before attempting to read its contents?**"
      ],
      "metadata": {
        "id": "b_3uwR0r1xHm"
      }
    },
    {
      "cell_type": "code",
      "source": [
        "import os\n",
        "\n",
        "if os.path.getsize(\"file.txt\") == 0:\n",
        "    print(\"The file is empty.\")\n",
        "else:\n",
        "    with open(\"file.txt\", \"r\") as file:\n",
        "        content = file.read()\n",
        "        print(content)\n"
      ],
      "metadata": {
        "id": "UuCGS7BC2T_o"
      },
      "execution_count": null,
      "outputs": []
    },
    {
      "cell_type": "markdown",
      "source": [
        "**23. Write a Python program that writes to a log file when an error occurs during file handling.**"
      ],
      "metadata": {
        "id": "9Njnaskr2bgE"
      }
    },
    {
      "cell_type": "code",
      "source": [
        "import logging\n",
        "\n",
        "logging.basicConfig(filename=\"file_error.log\", level=logging.ERROR)\n",
        "\n",
        "try:\n",
        "    with open(\"non_existent_file.txt\", \"r\") as file:\n",
        "        content = file.read()\n",
        "except FileNotFoundError:\n",
        "    logging.error(\"Attempted to open a file that does not exist.\")\n"
      ],
      "metadata": {
        "colab": {
          "base_uri": "https://localhost:8080/"
        },
        "id": "Y2FwGOgC2ffl",
        "outputId": "d56a6c7c-ae8e-40a5-ead2-bf5d3123300b"
      },
      "execution_count": 39,
      "outputs": [
        {
          "output_type": "stream",
          "name": "stderr",
          "text": [
            "ERROR:root:Attempted to open a file that does not exist.\n"
          ]
        }
      ]
    }
  ]
}